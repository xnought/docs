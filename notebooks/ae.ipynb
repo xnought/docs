{
 "cells": [
  {
   "cell_type": "code",
   "execution_count": 1,
   "metadata": {},
   "outputs": [],
   "source": [
    "import torch\n",
    "import torchvision"
   ]
  },
  {
   "cell_type": "code",
   "execution_count": 2,
   "metadata": {},
   "outputs": [],
   "source": [
    "import torch.nn as nn\n",
    "\n",
    "class Autoencoder(nn.Module):\n",
    "    def __init__(self):\n",
    "        super().__init__()\n",
    "        self.model = nn.Sequential(\n",
    "            nn.Linear(28*28, 1000),\n",
    "            nn.ReLU(),\n",
    "            nn.Linear(1000, 256),\n",
    "            nn.ReLU(),\n",
    "            nn.Linear(256, 256),\n",
    "            nn.ReLU(),\n",
    "            nn.Linear(256, 1000),\n",
    "            nn.ReLU(),\n",
    "            nn.Linear(1000, 28*28),\n",
    "            nn.Sigmoid()\n",
    "        )\n",
    "\n",
    "    def forward(self, flat):\n",
    "        return self.model(flat)\n",
    "\n",
    "class AutoencoderBig(nn.Module):\n",
    "    def __init__(self):\n",
    "        super().__init__()\n",
    "        self.model = nn.Sequential(\n",
    "            nn.Linear(28*28, 2048),\n",
    "            nn.ReLU(),\n",
    "            nn.Linear(2048, 1024),\n",
    "            nn.ReLU(),\n",
    "            nn.Linear(1024, 512),\n",
    "            nn.ReLU(),\n",
    "            nn.Linear(512, 256),\n",
    "            nn.ReLU(),\n",
    "            nn.Linear(256, 512),\n",
    "            nn.ReLU(),\n",
    "            nn.Linear(512, 1024),\n",
    "            nn.ReLU(),\n",
    "            nn.Linear(1024, 2048),\n",
    "            nn.ReLU(),\n",
    "            nn.Linear(2048, 28*28),\n",
    "            nn.Sigmoid()\n",
    "        )\n",
    "\n",
    "    def forward(self, flat):\n",
    "        return self.model(flat)"
   ]
  },
  {
   "cell_type": "code",
   "execution_count": 3,
   "metadata": {},
   "outputs": [],
   "source": [
    "DEVICE = \"cpu\""
   ]
  },
  {
   "cell_type": "code",
   "execution_count": 4,
   "metadata": {},
   "outputs": [
    {
     "data": {
      "text/plain": [
       "<All keys matched successfully>"
      ]
     },
     "execution_count": 4,
     "metadata": {},
     "output_type": "execute_result"
    }
   ],
   "source": [
    "model = Autoencoder()\n",
    "model.load_state_dict(torch.load('models/ae-1.pth', map_location=DEVICE))"
   ]
  },
  {
   "cell_type": "code",
   "execution_count": 5,
   "metadata": {},
   "outputs": [
    {
     "data": {
      "text/plain": [
       "Autoencoder(\n",
       "  (model): Sequential(\n",
       "    (0): Linear(in_features=784, out_features=1000, bias=True)\n",
       "    (1): ReLU()\n",
       "    (2): Linear(in_features=1000, out_features=256, bias=True)\n",
       "    (3): ReLU()\n",
       "    (4): Linear(in_features=256, out_features=256, bias=True)\n",
       "    (5): ReLU()\n",
       "    (6): Linear(in_features=256, out_features=1000, bias=True)\n",
       "    (7): ReLU()\n",
       "    (8): Linear(in_features=1000, out_features=784, bias=True)\n",
       "    (9): Sigmoid()\n",
       "  )\n",
       ")"
      ]
     },
     "execution_count": 5,
     "metadata": {},
     "output_type": "execute_result"
    }
   ],
   "source": [
    "model"
   ]
  },
  {
   "cell_type": "code",
   "execution_count": 12,
   "metadata": {},
   "outputs": [],
   "source": [
    "from sklearn.cluster import MiniBatchKMeans\n",
    "import torch\n",
    "import tqdm\n",
    "\n",
    "\n",
    "class QuantizedParams(torch.nn.Module):\n",
    "    def __init__(self, indexes, codebook):\n",
    "        super().__init__()\n",
    "        self.indexes = torch.nn.Parameter(indexes, requires_grad=False)\n",
    "        self.codebook = torch.nn.Parameter(codebook, requires_grad=False)\n",
    "\n",
    "    def forward(self):\n",
    "        return self.codebook[self.indexes.to(torch.int32)]\n",
    "\n",
    "\n",
    "class RegularParams(torch.nn.Module):\n",
    "    def __init__(self, weights):\n",
    "        super().__init__()\n",
    "        self.weights = torch.nn.Parameter(weights, requires_grad=False)\n",
    "\n",
    "    def forward(self):\n",
    "        return self.weights\n",
    "\n",
    "\n",
    "class HybridLinear(torch.nn.Module):\n",
    "    def __init__(self, q_w, q_b):\n",
    "        \"\"\"each are callable modules that return the weights and biases\"\"\"\n",
    "        super().__init__()\n",
    "        self.weight = q_w\n",
    "        self.bias = q_b\n",
    "\n",
    "    def forward(self, X):\n",
    "        return X @ self.weight().T + self.bias()\n",
    "\n",
    "\n",
    "def k_means(X, k=2):\n",
    "    kmeans = MiniBatchKMeans(n_clusters=k, random_state=0, n_init=\"auto\").fit(X)\n",
    "    return kmeans.cluster_centers_, kmeans.labels_\n",
    "\n",
    "\n",
    "def quantize(weights, k=2, dtype=torch.float32):\n",
    "    centroids, labels = k_means(weights.reshape(-1, 1), k)\n",
    "    codebook = torch.tensor(centroids, dtype=dtype).reshape(-1)\n",
    "    new_weights = torch.tensor(labels, dtype=torch.uint8).reshape(weights.shape)\n",
    "    return codebook, new_weights\n",
    "\n",
    "\n",
    "@torch.no_grad()\n",
    "def quantize_linear_layer(layer, bits=8, dtype=torch.float32):\n",
    "    weight = layer.weight\n",
    "    bias = layer.bias\n",
    "\n",
    "    num_weights = weight.view(-1, 1).shape[0]\n",
    "    num_biases = 1 if bias is None else bias.view(-1, 1).shape[0]\n",
    "\n",
    "    # apply k-means if there are enough parameters\n",
    "    total_bits = int(2**bits)\n",
    "    new_weight = None\n",
    "    new_bias = None\n",
    "    if num_weights > total_bits:\n",
    "        w_codebook, w_indexes = quantize(weight, total_bits, dtype)\n",
    "        new_weight = QuantizedParams(w_indexes, w_codebook)\n",
    "    else:\n",
    "        # no quantization :(\n",
    "        new_weight = RegularParams(weight)\n",
    "\n",
    "    if bias is not None and num_biases > total_bits:\n",
    "        b_codebook, b_indexes = quantize(bias, total_bits, dtype)\n",
    "        new_bias = QuantizedParams(b_indexes, b_codebook)\n",
    "    else:\n",
    "        # no quantization :(\n",
    "        new_bias = RegularParams(\n",
    "            bias if bias is not None else torch.tensor(0.0, dtype=dtype)\n",
    "        )\n",
    "\n",
    "    return HybridLinear(new_weight, new_bias)\n",
    "\n",
    "def traverse_named_modules(m, filter=\"Linear\"):\n",
    "    for name, l in m.named_modules():\n",
    "        if type(l).__name__ == filter:\n",
    "            sep_name = name.split(\".\")\n",
    "            parent = \".\".join(sep_name[:-1])\n",
    "            child = sep_name[-1]\n",
    "            yield parent, child, l\n",
    "\n",
    "\n",
    "def traverse_named_modules(m, filter=\"Linear\"):\n",
    "    for name, l in m.named_modules():\n",
    "        if type(l).__name__ == filter:\n",
    "            sep_name = name.split(\".\")\n",
    "            parent = \".\".join(sep_name[:-1])\n",
    "            child = sep_name[-1]\n",
    "            yield parent, child, l\n",
    "\n",
    "\n",
    "def replace(model, filter, callback):\n",
    "    modules = list(traverse_named_modules(model, filter))\n",
    "    for p, c, l in tqdm.tqdm(modules, total=len(modules)):\n",
    "        setattr(model.get_submodule(p), c, callback(p, c, l))\n",
    "\n",
    "\n",
    "def replace_linear_with_quantized(model, bits=8, dtype=torch.float16):\n",
    "    replace(\n",
    "        model,\n",
    "        \"Linear\",\n",
    "        lambda p, c, l: quantize_linear_layer(l, bits=bits, dtype=dtype),\n",
    "    )"
   ]
  },
  {
   "cell_type": "code",
   "execution_count": 13,
   "metadata": {},
   "outputs": [
    {
     "name": "stderr",
     "output_type": "stream",
     "text": [
      "100%|██████████| 5/5 [00:01<00:00,  2.99it/s]\n"
     ]
    }
   ],
   "source": [
    "replace_linear_with_quantized(model, bits=8, dtype=torch.float32)"
   ]
  },
  {
   "cell_type": "code",
   "execution_count": 6,
   "metadata": {},
   "outputs": [
    {
     "data": {
      "text/plain": [
       "Autoencoder(\n",
       "  (model): Sequential(\n",
       "    (0): Linear(in_features=784, out_features=1000, bias=True)\n",
       "    (1): ReLU()\n",
       "    (2): Linear(in_features=1000, out_features=256, bias=True)\n",
       "    (3): ReLU()\n",
       "    (4): Linear(in_features=256, out_features=256, bias=True)\n",
       "    (5): ReLU()\n",
       "    (6): Linear(in_features=256, out_features=1000, bias=True)\n",
       "    (7): ReLU()\n",
       "    (8): Linear(in_features=1000, out_features=784, bias=True)\n",
       "    (9): Sigmoid()\n",
       "  )\n",
       ")"
      ]
     },
     "execution_count": 6,
     "metadata": {},
     "output_type": "execute_result"
    }
   ],
   "source": [
    "model"
   ]
  },
  {
   "cell_type": "code",
   "execution_count": 17,
   "metadata": {},
   "outputs": [],
   "source": [
    "torch.save(model.state_dict(), 'models/ae-1-quantized.pth')"
   ]
  },
  {
   "cell_type": "code",
   "execution_count": 8,
   "metadata": {},
   "outputs": [],
   "source": [
    "def export(model, filename):\n",
    "\timport json\n",
    "\twith open(filename, \"w\") as f:\n",
    "\t\tnew_json = {}\n",
    "\t\tfor k, v in model.state_dict().items():\n",
    "\t\t\tnew_json[k] = {\"data\": v.reshape(-1).tolist(), \"shape\": v.shape}\n",
    "\t\tjson.dump(new_json, f)"
   ]
  },
  {
   "cell_type": "code",
   "execution_count": 9,
   "metadata": {},
   "outputs": [],
   "source": [
    "export(model, \"models/ae-1.json\")"
   ]
  }
 ],
 "metadata": {
  "kernelspec": {
   "display_name": "Python 3",
   "language": "python",
   "name": "python3"
  },
  "language_info": {
   "codemirror_mode": {
    "name": "ipython",
    "version": 3
   },
   "file_extension": ".py",
   "mimetype": "text/x-python",
   "name": "python",
   "nbconvert_exporter": "python",
   "pygments_lexer": "ipython3",
   "version": "3.11.2"
  },
  "orig_nbformat": 4
 },
 "nbformat": 4,
 "nbformat_minor": 2
}
