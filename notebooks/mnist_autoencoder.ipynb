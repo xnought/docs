{
  "nbformat": 4,
  "nbformat_minor": 0,
  "metadata": {
    "colab": {
      "provenance": [],
      "gpuType": "T4"
    },
    "kernelspec": {
      "name": "python3",
      "display_name": "Python 3"
    },
    "language_info": {
      "name": "python"
    },
    "accelerator": "GPU"
  },
  "cells": [
    {
      "cell_type": "code",
      "execution_count": null,
      "metadata": {
        "id": "CmXPzBQu6Olp"
      },
      "outputs": [],
      "source": [
        "import torch\n",
        "import torchvision\n",
        "import matplotlib.pyplot as plt\n",
        "from PIL import Image"
      ]
    },
    {
      "cell_type": "code",
      "source": [
        "transform = torchvision.transforms.Compose([\n",
        "    torchvision.transforms.PILToTensor(),\n",
        "])\n",
        "train = torchvision.datasets.MNIST(root='./data', train=True, download=True,  transform=transform)\n",
        "test = torchvision.datasets.MNIST(root='./data', train=False, download=True,  transform=transform)"
      ],
      "metadata": {
        "id": "MVvita956TKv"
      },
      "execution_count": null,
      "outputs": []
    },
    {
      "cell_type": "code",
      "source": [
        "train"
      ],
      "metadata": {
        "colab": {
          "base_uri": "https://localhost:8080/"
        },
        "id": "dRTLDr8C6maC",
        "outputId": "db6833a1-d86e-4f68-a5a1-ff5fc282f3fd"
      },
      "execution_count": null,
      "outputs": [
        {
          "output_type": "execute_result",
          "data": {
            "text/plain": [
              "Dataset MNIST\n",
              "    Number of datapoints: 60000\n",
              "    Root location: ./data\n",
              "    Split: Train\n",
              "    StandardTransform\n",
              "Transform: Compose(\n",
              "               PILToTensor()\n",
              "           )"
            ]
          },
          "metadata": {},
          "execution_count": 124
        }
      ]
    },
    {
      "cell_type": "code",
      "source": [
        "ds = torch.utils.data.DataLoader(train, batch_size=64, shuffle=True)\n",
        "ds_test = torch.utils.data.DataLoader(test, batch_size=64)"
      ],
      "metadata": {
        "id": "EhjKhYm_6v8g"
      },
      "execution_count": null,
      "outputs": []
    },
    {
      "cell_type": "code",
      "source": [
        "from torch import nn\n",
        "import torch.nn.functional as F\n",
        "\n",
        "class Autoencoder(nn.Module):\n",
        "    def __init__(self):\n",
        "        super().__init__()\n",
        "        self.model = nn.Sequential(\n",
        "            nn.Linear(28*28, 1000),\n",
        "            nn.ReLU(),\n",
        "            nn.Linear(1000, 256),\n",
        "            nn.ReLU(),\n",
        "            nn.Linear(256, 256),\n",
        "            nn.ReLU(),\n",
        "            nn.Linear(256, 1000),\n",
        "            nn.ReLU(),\n",
        "            nn.Linear(1000, 28*28),\n",
        "            nn.Sigmoid()\n",
        "        )\n",
        "\n",
        "    def forward(self, flat):\n",
        "        return self.model(flat)\n",
        "\n",
        "class AutoencoderBig(nn.Module):\n",
        "    def __init__(self):\n",
        "        super().__init__()\n",
        "        self.model = nn.Sequential(\n",
        "            nn.Linear(28*28, 2048),\n",
        "            nn.ReLU(),\n",
        "            nn.Linear(2048, 1024),\n",
        "            nn.ReLU(),\n",
        "            nn.Linear(1024, 512),\n",
        "            nn.ReLU(),\n",
        "            nn.Linear(512, 256),\n",
        "            nn.ReLU(),\n",
        "            nn.Linear(256, 512),\n",
        "            nn.ReLU(),\n",
        "            nn.Linear(512, 1024),\n",
        "            nn.ReLU(),\n",
        "            nn.Linear(1024, 2048),\n",
        "            nn.ReLU(),\n",
        "            nn.Linear(2048, 28*28),\n",
        "            nn.Sigmoid()\n",
        "        )\n",
        "\n",
        "    def forward(self, flat):\n",
        "        return self.model(flat)\n",
        "\n",
        "# model = Autoencoder()\n",
        "model = AutoencoderBig()"
      ],
      "metadata": {
        "id": "G5xZF0TZ7oVB"
      },
      "execution_count": null,
      "outputs": []
    },
    {
      "cell_type": "code",
      "source": [
        "@torch.no_grad()\n",
        "def valid_loss(model, ds_test, loss_fn, device=\"cuda\"):\n",
        "    summed_loss = 0\n",
        "    iters = 0\n",
        "    for batch in ds_test:\n",
        "        image_tensor = batch[0]\n",
        "        B, C, H, W = image_tensor.shape\n",
        "        inputs = image_tensor.view(B, -1)\n",
        "        inputs = inputs.to(device)\n",
        "        inputs = inputs.to(torch.float32)\n",
        "        inputs /= 255.0\n",
        "\n",
        "        # 1. forward pass\n",
        "        outputs = model(inputs)\n",
        "\n",
        "        # 2. update weights\n",
        "        loss = loss_fn(outputs, inputs)\n",
        "        summed_loss += loss.detach().cpu().item()\n",
        "        iters +=1\n",
        "    return summed_loss / iters\n",
        "\n",
        "\n",
        "def _train(model, ds, device=\"cpu\", iterations=None, epochs=1000):\n",
        "    device = \"cuda\"\n",
        "    loss_fn = nn.MSELoss()\n",
        "    optim = torch.optim.AdamW(model.parameters())\n",
        "    model.to(device)\n",
        "    model.train()\n",
        "    losses = []\n",
        "    iteration = 0\n",
        "\n",
        "    for epoch in range(epochs):\n",
        "        for i, batch in enumerate(ds):\n",
        "            if iterations is not None and iteration > iterations:\n",
        "                break\n",
        "\n",
        "            # 0. process data\n",
        "            image_tensor = batch[0]\n",
        "            B, C, H, W = image_tensor.shape\n",
        "            inputs = image_tensor.view(B, -1) # flatten, but not batches\n",
        "            inputs = inputs.to(device)\n",
        "            inputs = inputs.to(torch.float32)\n",
        "            inputs /= 255.0\n",
        "\n",
        "            # 1. forward pass\n",
        "            outputs = model(inputs)\n",
        "\n",
        "            # 2. update weights\n",
        "            loss = loss_fn(outputs, inputs)\n",
        "            optim.zero_grad()\n",
        "            loss.backward()\n",
        "            optim.step()\n",
        "\n",
        "            # 3. log out the losses\n",
        "            losses.append((iteration, loss.detach().cpu().item()))\n",
        "            iteration +=1\n",
        "        valid = valid_loss(model, ds_test, loss_fn, device)\n",
        "        print(epoch, \"train\", losses[-1][1], \"validation\", valid)\n",
        "\n",
        "    return losses"
      ],
      "metadata": {
        "id": "Rffm3ZdU9eWZ"
      },
      "execution_count": null,
      "outputs": []
    },
    {
      "cell_type": "code",
      "source": [
        "def tensor_to_image(image):\n",
        "    image *= 255\n",
        "    image = image.to(torch.uint8)\n",
        "    return Image.fromarray(image.detach().cpu().numpy()).resize((256, 256))\n",
        "\n",
        "def check(image_tensor, device=\"cuda\"):\n",
        "    C, H, W = image_tensor.shape\n",
        "    B = 1\n",
        "    inputs = image_tensor.view(B, -1) # flatten, but not batches\n",
        "    inputs = inputs.to(device)\n",
        "    inputs = inputs.to(torch.float32)\n",
        "    inputs /= 255.0\n",
        "\n",
        "    outputs = model(inputs)\n",
        "    return tensor_to_image(outputs.view(H, W))"
      ],
      "metadata": {
        "id": "mgBeb9IQ_7YY"
      },
      "execution_count": null,
      "outputs": []
    },
    {
      "cell_type": "code",
      "source": [
        "losses = _train(model, ds, device=\"cuda\", epochs=10)"
      ],
      "metadata": {
        "colab": {
          "base_uri": "https://localhost:8080/"
        },
        "id": "JNcEJhkfEkb4",
        "outputId": "c9a19fe8-531e-41b9-b894-98df77a0785c"
      },
      "execution_count": null,
      "outputs": [
        {
          "output_type": "stream",
          "name": "stdout",
          "text": [
            "0 train 0.025070317089557648 validation 0.026544288583811682\n",
            "1 train 0.022228144109249115 validation 0.020967636678581404\n",
            "2 train 0.019972657784819603 validation 0.01787209737998475\n",
            "3 train 0.016131289303302765 validation 0.0155518268751111\n",
            "4 train 0.012622419744729996 validation 0.013525550615540735\n",
            "5 train 0.011766315437853336 validation 0.012529216166941604\n",
            "6 train 0.01121400948613882 validation 0.011562040562083008\n",
            "7 train 0.010252684354782104 validation 0.01129013715181381\n",
            "8 train 0.010867577977478504 validation 0.010964207312649792\n",
            "9 train 0.010179199278354645 validation 0.010639419678337635\n"
          ]
        }
      ]
    },
    {
      "cell_type": "code",
      "source": [
        "plt.plot([i[0]for i in losses], [i[1]for i in losses])"
      ],
      "metadata": {
        "colab": {
          "base_uri": "https://localhost:8080/",
          "height": 447
        },
        "id": "3F3kk1doOWlf",
        "outputId": "75bf2de4-2e09-4ed9-87fc-9d705891cc61"
      },
      "execution_count": null,
      "outputs": [
        {
          "output_type": "execute_result",
          "data": {
            "text/plain": [
              "[<matplotlib.lines.Line2D at 0x7e560c5d92a0>]"
            ]
          },
          "metadata": {},
          "execution_count": 196
        },
        {
          "output_type": "display_data",
          "data": {
            "text/plain": [
              "<Figure size 640x480 with 1 Axes>"
            ],
            "image/png": "[encoded data removed]"
          },
          "metadata": {}
        }
      ]
    },
    {
      "cell_type": "code",
      "source": [
        "first = test[0][0]\n",
        "check(first)"
      ],
      "metadata": {
        "colab": {
          "base_uri": "https://localhost:8080/",
          "height": 273
        },
        "id": "Dr0XI9M8EmsB",
        "outputId": "04fabf9c-ac61-4988-89b1-363d6f006b3e"
      },
      "execution_count": null,
      "outputs": [
        {
          "output_type": "execute_result",
          "data": {
            "text/plain": [
              "<PIL.Image.Image image mode=L size=256x256>"
            ],
            "image/png": "[encoded data removed]"
          },
          "metadata": {},
          "execution_count": 199
        }
      ]
    },
    {
      "cell_type": "code",
      "source": [
        "tensor_to_image(first.squeeze(0))"
      ],
      "metadata": {
        "colab": {
          "base_uri": "https://localhost:8080/",
          "height": 273
        },
        "id": "wYvEIepxPmX7",
        "outputId": "76d17f3f-abcb-44d2-9281-4bb91ef54ac9"
      },
      "execution_count": null,
      "outputs": [
        {
          "output_type": "execute_result",
          "data": {
            "text/plain": [
              "<PIL.Image.Image image mode=L size=256x256>"
            ],
            "image/png": "[encoded data removed]"
          },
          "metadata": {},
          "execution_count": 201
        }
      ]
    },
    {
      "cell_type": "code",
      "source": [
        "torch.save(model.state_dict(), \"ae-big.pth\")"
      ],
      "metadata": {
        "id": "EG5jn0UXP0gO"
      },
      "execution_count": null,
      "outputs": []
    },
    {
      "cell_type": "code",
      "source": [
        "%shell ls -hla"
      ],
      "metadata": {
        "colab": {
          "base_uri": "https://localhost:8080/"
        },
        "id": "jXQCUclzSSKW",
        "outputId": "b4840844-7fba-496a-df5a-c69a706f482b"
      },
      "execution_count": null,
      "outputs": [
        {
          "output_type": "stream",
          "name": "stdout",
          "text": [
            "total 42M\n",
            "drwxr-xr-x 1 root root 4.0K Aug 22 22:18 .\n",
            "drwxr-xr-x 1 root root 4.0K Aug 22 20:49 ..\n",
            "-rw-r--r-- 1 root root 8.2M Aug 22 22:06 ae-1.pth\n",
            "-rw-r--r-- 1 root root  34M Aug 22 22:18 ae-big.pth\n",
            "drwxr-xr-x 4 root root 4.0K Aug 21 13:33 .config\n",
            "drwxr-xr-x 3 root root 4.0K Aug 22 20:50 data\n",
            "drwxr-xr-x 1 root root 4.0K Aug 21 13:34 sample_data\n"
          ]
        },
        {
          "output_type": "execute_result",
          "data": {
            "text/plain": []
          },
          "metadata": {},
          "execution_count": 203
        }
      ]
    },
    {
      "cell_type": "code",
      "source": [],
      "metadata": {
        "id": "N8RmOifWU7Cn"
      },
      "execution_count": null,
      "outputs": []
    }
  ]
}